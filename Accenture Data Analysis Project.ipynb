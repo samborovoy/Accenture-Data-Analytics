{
 "cells": [
  {
   "cell_type": "code",
   "execution_count": 333,
   "id": "791c6975",
   "metadata": {},
   "outputs": [],
   "source": [
    "# import libraries\n",
    "\n",
    "import pandas as pd\n",
    "import numpy as np\n",
    "\n",
    "# read in the three data sets\n",
    "\n",
    "contents_df = pd.read_csv(\"/Users/sborovoy/Documents/analyst_projs/accenture_analytics/Content.csv\")\n",
    "reactions_df = pd.read_csv(\"/Users/sborovoy/Documents/analyst_projs/accenture_analytics/Reactions.csv\")\n",
    "reaction_type_df = pd.read_csv(\"/Users/sborovoy/Documents/analyst_projs/accenture_analytics/ReactionTypes.csv\")"
   ]
  },
  {
   "cell_type": "markdown",
   "id": "03b7085a",
   "metadata": {},
   "source": [
    "# Data Cleaning"
   ]
  },
  {
   "cell_type": "markdown",
   "id": "2f9d9647",
   "metadata": {},
   "source": [
    "### Contents Data Frame"
   ]
  },
  {
   "cell_type": "code",
   "execution_count": 334,
   "id": "a226cea5",
   "metadata": {},
   "outputs": [],
   "source": [
    "# Let's clean the contents data frame first"
   ]
  },
  {
   "cell_type": "code",
   "execution_count": 335,
   "id": "34101e88",
   "metadata": {},
   "outputs": [
    {
     "data": {
      "text/html": [
       "<div>\n",
       "<style scoped>\n",
       "    .dataframe tbody tr th:only-of-type {\n",
       "        vertical-align: middle;\n",
       "    }\n",
       "\n",
       "    .dataframe tbody tr th {\n",
       "        vertical-align: top;\n",
       "    }\n",
       "\n",
       "    .dataframe thead th {\n",
       "        text-align: right;\n",
       "    }\n",
       "</style>\n",
       "<table border=\"1\" class=\"dataframe\">\n",
       "  <thead>\n",
       "    <tr style=\"text-align: right;\">\n",
       "      <th></th>\n",
       "      <th>Unnamed: 0</th>\n",
       "      <th>Content ID</th>\n",
       "      <th>User ID</th>\n",
       "      <th>Type</th>\n",
       "      <th>Category</th>\n",
       "      <th>URL</th>\n",
       "    </tr>\n",
       "  </thead>\n",
       "  <tbody>\n",
       "    <tr>\n",
       "      <th>0</th>\n",
       "      <td>0</td>\n",
       "      <td>97522e57-d9ab-4bd6-97bf-c24d952602d2</td>\n",
       "      <td>8d3cd87d-8a31-4935-9a4f-b319bfe05f31</td>\n",
       "      <td>photo</td>\n",
       "      <td>Studying</td>\n",
       "      <td>https://socialbuzz.cdn.com/content/storage/975...</td>\n",
       "    </tr>\n",
       "    <tr>\n",
       "      <th>1</th>\n",
       "      <td>1</td>\n",
       "      <td>9f737e0a-3cdd-4d29-9d24-753f4e3be810</td>\n",
       "      <td>beb1f34e-7870-46d6-9fc7-2e12eb83ce43</td>\n",
       "      <td>photo</td>\n",
       "      <td>healthy eating</td>\n",
       "      <td>https://socialbuzz.cdn.com/content/storage/9f7...</td>\n",
       "    </tr>\n",
       "    <tr>\n",
       "      <th>2</th>\n",
       "      <td>2</td>\n",
       "      <td>230c4e4d-70c3-461d-b42c-ec09396efb3f</td>\n",
       "      <td>a5c65404-5894-4b87-82f2-d787cbee86b4</td>\n",
       "      <td>photo</td>\n",
       "      <td>healthy eating</td>\n",
       "      <td>https://socialbuzz.cdn.com/content/storage/230...</td>\n",
       "    </tr>\n",
       "    <tr>\n",
       "      <th>3</th>\n",
       "      <td>3</td>\n",
       "      <td>356fff80-da4d-4785-9f43-bc1261031dc6</td>\n",
       "      <td>9fb4ce88-fac1-406c-8544-1a899cee7aaf</td>\n",
       "      <td>photo</td>\n",
       "      <td>technology</td>\n",
       "      <td>https://socialbuzz.cdn.com/content/storage/356...</td>\n",
       "    </tr>\n",
       "    <tr>\n",
       "      <th>4</th>\n",
       "      <td>4</td>\n",
       "      <td>01ab84dd-6364-4236-abbb-3f237db77180</td>\n",
       "      <td>e206e31b-5f85-4964-b6ea-d7ee5324def1</td>\n",
       "      <td>video</td>\n",
       "      <td>food</td>\n",
       "      <td>https://socialbuzz.cdn.com/content/storage/01a...</td>\n",
       "    </tr>\n",
       "    <tr>\n",
       "      <th>5</th>\n",
       "      <td>5</td>\n",
       "      <td>cf1e8c1a-23eb-4426-9f58-002fb1b53e91</td>\n",
       "      <td>4607d7b0-3313-49b8-9f73-5b8227fc5b67</td>\n",
       "      <td>GIF</td>\n",
       "      <td>cooking</td>\n",
       "      <td>NaN</td>\n",
       "    </tr>\n",
       "    <tr>\n",
       "      <th>6</th>\n",
       "      <td>6</td>\n",
       "      <td>3f8590c7-6ab2-4973-805a-90cdec355f05</td>\n",
       "      <td>ae600af5-c1f0-4b1f-adb0-1b4c246373e4</td>\n",
       "      <td>video</td>\n",
       "      <td>dogs</td>\n",
       "      <td>https://socialbuzz.cdn.com/content/storage/3f8...</td>\n",
       "    </tr>\n",
       "    <tr>\n",
       "      <th>7</th>\n",
       "      <td>7</td>\n",
       "      <td>e5490118-90d5-4572-ab1c-1fbc87b8d9ca</td>\n",
       "      <td>583f2bde-886d-4cf3-a5c4-7cb60cd25df3</td>\n",
       "      <td>video</td>\n",
       "      <td>technology</td>\n",
       "      <td>https://socialbuzz.cdn.com/content/storage/e54...</td>\n",
       "    </tr>\n",
       "    <tr>\n",
       "      <th>8</th>\n",
       "      <td>8</td>\n",
       "      <td>0bedca96-fb76-4287-a83c-17330ed39cce</td>\n",
       "      <td>2bd9c167-e06c-47c1-a978-3403d6724606</td>\n",
       "      <td>photo</td>\n",
       "      <td>soccer</td>\n",
       "      <td>https://socialbuzz.cdn.com/content/storage/0be...</td>\n",
       "    </tr>\n",
       "    <tr>\n",
       "      <th>9</th>\n",
       "      <td>9</td>\n",
       "      <td>b18cb63f-4c8e-44ee-a47f-541e95191d11</td>\n",
       "      <td>13f0db8a-152a-496f-a6e8-1ed6a90b8788</td>\n",
       "      <td>photo</td>\n",
       "      <td>public speaking</td>\n",
       "      <td>https://socialbuzz.cdn.com/content/storage/b18...</td>\n",
       "    </tr>\n",
       "  </tbody>\n",
       "</table>\n",
       "</div>"
      ],
      "text/plain": [
       "   Unnamed: 0                            Content ID  \\\n",
       "0           0  97522e57-d9ab-4bd6-97bf-c24d952602d2   \n",
       "1           1  9f737e0a-3cdd-4d29-9d24-753f4e3be810   \n",
       "2           2  230c4e4d-70c3-461d-b42c-ec09396efb3f   \n",
       "3           3  356fff80-da4d-4785-9f43-bc1261031dc6   \n",
       "4           4  01ab84dd-6364-4236-abbb-3f237db77180   \n",
       "5           5  cf1e8c1a-23eb-4426-9f58-002fb1b53e91   \n",
       "6           6  3f8590c7-6ab2-4973-805a-90cdec355f05   \n",
       "7           7  e5490118-90d5-4572-ab1c-1fbc87b8d9ca   \n",
       "8           8  0bedca96-fb76-4287-a83c-17330ed39cce   \n",
       "9           9  b18cb63f-4c8e-44ee-a47f-541e95191d11   \n",
       "\n",
       "                                User ID   Type         Category  \\\n",
       "0  8d3cd87d-8a31-4935-9a4f-b319bfe05f31  photo         Studying   \n",
       "1  beb1f34e-7870-46d6-9fc7-2e12eb83ce43  photo   healthy eating   \n",
       "2  a5c65404-5894-4b87-82f2-d787cbee86b4  photo   healthy eating   \n",
       "3  9fb4ce88-fac1-406c-8544-1a899cee7aaf  photo       technology   \n",
       "4  e206e31b-5f85-4964-b6ea-d7ee5324def1  video             food   \n",
       "5  4607d7b0-3313-49b8-9f73-5b8227fc5b67    GIF          cooking   \n",
       "6  ae600af5-c1f0-4b1f-adb0-1b4c246373e4  video             dogs   \n",
       "7  583f2bde-886d-4cf3-a5c4-7cb60cd25df3  video       technology   \n",
       "8  2bd9c167-e06c-47c1-a978-3403d6724606  photo           soccer   \n",
       "9  13f0db8a-152a-496f-a6e8-1ed6a90b8788  photo  public speaking   \n",
       "\n",
       "                                                 URL  \n",
       "0  https://socialbuzz.cdn.com/content/storage/975...  \n",
       "1  https://socialbuzz.cdn.com/content/storage/9f7...  \n",
       "2  https://socialbuzz.cdn.com/content/storage/230...  \n",
       "3  https://socialbuzz.cdn.com/content/storage/356...  \n",
       "4  https://socialbuzz.cdn.com/content/storage/01a...  \n",
       "5                                                NaN  \n",
       "6  https://socialbuzz.cdn.com/content/storage/3f8...  \n",
       "7  https://socialbuzz.cdn.com/content/storage/e54...  \n",
       "8  https://socialbuzz.cdn.com/content/storage/0be...  \n",
       "9  https://socialbuzz.cdn.com/content/storage/b18...  "
      ]
     },
     "execution_count": 335,
     "metadata": {},
     "output_type": "execute_result"
    }
   ],
   "source": [
    "# Let's preview the data\n",
    "\n",
    "contents_df.head(10)"
   ]
  },
  {
   "cell_type": "code",
   "execution_count": 336,
   "id": "b8b1d02c",
   "metadata": {},
   "outputs": [],
   "source": [
    "# remove the unimportant columns for analysis\n",
    "\n",
    "dropped_columns = ['Unnamed: 0', \"User ID\", \"URL\"]\n",
    "contents_df.drop(columns = dropped_columns, inplace=True)"
   ]
  },
  {
   "cell_type": "code",
   "execution_count": 337,
   "id": "8099e9c2",
   "metadata": {},
   "outputs": [
    {
     "data": {
      "text/plain": [
       "technology           71\n",
       "animals              67\n",
       "travel               67\n",
       "culture              63\n",
       "science              63\n",
       "fitness              61\n",
       "food                 61\n",
       "healthy eating       61\n",
       "cooking              60\n",
       "soccer               58\n",
       "tennis               58\n",
       "education            57\n",
       "dogs                 56\n",
       "studying             55\n",
       "veganism             48\n",
       "public speaking      48\n",
       "Fitness               5\n",
       "Animals               4\n",
       "Science               4\n",
       "\"soccer\"              3\n",
       "\"culture\"             3\n",
       "Soccer                3\n",
       "\"dogs\"                2\n",
       "Education             2\n",
       "Studying              2\n",
       "Travel                2\n",
       "Food                  2\n",
       "\"veganism\"            1\n",
       "\"public speaking\"     1\n",
       "Public Speaking       1\n",
       "\"technology\"          1\n",
       "\"cooking\"             1\n",
       "Healthy Eating        1\n",
       "\"studying\"            1\n",
       "\"food\"                1\n",
       "Culture               1\n",
       "\"tennis\"              1\n",
       "Technology            1\n",
       "\"animals\"             1\n",
       "Veganism              1\n",
       "\"science\"             1\n",
       "Name: Category, dtype: int64"
      ]
     },
     "execution_count": 337,
     "metadata": {},
     "output_type": "execute_result"
    }
   ],
   "source": [
    "# view values for Category column\n",
    "\n",
    "contents_df.Category.value_counts()"
   ]
  },
  {
   "cell_type": "code",
   "execution_count": 338,
   "id": "8c16166d",
   "metadata": {},
   "outputs": [],
   "source": [
    "# duplicate categories exist due to quotations or an uppercase inital letter. Consolidate duplicates by:\n",
    "\n",
    "# strip the quotation marks\n",
    "contents_df['Category'] = contents_df['Category'].str.strip('\"\"')\n",
    "\n",
    "# make all strings lower case\n",
    "contents_df['Category'] = contents_df['Category'].str.lower()"
   ]
  },
  {
   "cell_type": "code",
   "execution_count": 339,
   "id": "d521f01f",
   "metadata": {
    "scrolled": true
   },
   "outputs": [],
   "source": [
    "# change Content column name and Type for uniformity and uniqueness across data sets\n",
    "\n",
    "contents_df.rename(columns={'Category': 'Category Type', 'Type': 'Content Type'}, inplace=True)"
   ]
  },
  {
   "cell_type": "code",
   "execution_count": 340,
   "id": "cb94a361",
   "metadata": {},
   "outputs": [
    {
     "data": {
      "text/plain": [
       "technology         73\n",
       "animals            72\n",
       "travel             69\n",
       "science            68\n",
       "culture            67\n",
       "fitness            66\n",
       "food               64\n",
       "soccer             64\n",
       "healthy eating     62\n",
       "cooking            61\n",
       "tennis             59\n",
       "education          59\n",
       "studying           58\n",
       "dogs               58\n",
       "public speaking    50\n",
       "veganism           50\n",
       "Name: Category Type, dtype: int64"
      ]
     },
     "execution_count": 340,
     "metadata": {},
     "output_type": "execute_result"
    }
   ],
   "source": [
    "contents_df['Category Type'].value_counts()"
   ]
  },
  {
   "cell_type": "code",
   "execution_count": 341,
   "id": "71f9fd27",
   "metadata": {},
   "outputs": [
    {
     "data": {
      "text/plain": [
       "Content ID       0\n",
       "Content Type     0\n",
       "Category Type    0\n",
       "dtype: int64"
      ]
     },
     "execution_count": 341,
     "metadata": {},
     "output_type": "execute_result"
    }
   ],
   "source": [
    "# Let's see the null values in the data frame\n",
    "\n",
    "contents_df.isnull().sum()"
   ]
  },
  {
   "cell_type": "code",
   "execution_count": 342,
   "id": "c93fedbc",
   "metadata": {},
   "outputs": [],
   "source": [
    "# remove rows with null values\n",
    "\n",
    "contents_df.dropna(inplace=True)"
   ]
  },
  {
   "cell_type": "code",
   "execution_count": 343,
   "id": "3623d664",
   "metadata": {},
   "outputs": [
    {
     "name": "stdout",
     "output_type": "stream",
     "text": [
      "The data type(s) for values in the Content ID column are: [<class 'str'>]\n",
      "The data type(s) for values in the Content Type column are: [<class 'str'>]\n",
      "The data type(s) for values in the Category Type column are: [<class 'str'>]\n"
     ]
    }
   ],
   "source": [
    "# check for uniform data types in columns\n",
    "\n",
    "for col in contents_df:\n",
    "    print(f\"The data type(s) for values in the {col} column are: {contents_df[col].apply(type).unique()}\")"
   ]
  },
  {
   "cell_type": "markdown",
   "id": "13f50dd3",
   "metadata": {},
   "source": [
    "### Reaction Data Frame"
   ]
  },
  {
   "cell_type": "code",
   "execution_count": 344,
   "id": "32760ec3",
   "metadata": {},
   "outputs": [
    {
     "data": {
      "text/html": [
       "<div>\n",
       "<style scoped>\n",
       "    .dataframe tbody tr th:only-of-type {\n",
       "        vertical-align: middle;\n",
       "    }\n",
       "\n",
       "    .dataframe tbody tr th {\n",
       "        vertical-align: top;\n",
       "    }\n",
       "\n",
       "    .dataframe thead th {\n",
       "        text-align: right;\n",
       "    }\n",
       "</style>\n",
       "<table border=\"1\" class=\"dataframe\">\n",
       "  <thead>\n",
       "    <tr style=\"text-align: right;\">\n",
       "      <th></th>\n",
       "      <th>Unnamed: 0</th>\n",
       "      <th>Content ID</th>\n",
       "      <th>User ID</th>\n",
       "      <th>Type</th>\n",
       "      <th>Datetime</th>\n",
       "    </tr>\n",
       "  </thead>\n",
       "  <tbody>\n",
       "    <tr>\n",
       "      <th>0</th>\n",
       "      <td>0</td>\n",
       "      <td>97522e57-d9ab-4bd6-97bf-c24d952602d2</td>\n",
       "      <td>NaN</td>\n",
       "      <td>NaN</td>\n",
       "      <td>2021-04-22 15:17:15</td>\n",
       "    </tr>\n",
       "    <tr>\n",
       "      <th>1</th>\n",
       "      <td>1</td>\n",
       "      <td>97522e57-d9ab-4bd6-97bf-c24d952602d2</td>\n",
       "      <td>5d454588-283d-459d-915d-c48a2cb4c27f</td>\n",
       "      <td>disgust</td>\n",
       "      <td>2020-11-07 09:43:50</td>\n",
       "    </tr>\n",
       "    <tr>\n",
       "      <th>2</th>\n",
       "      <td>2</td>\n",
       "      <td>97522e57-d9ab-4bd6-97bf-c24d952602d2</td>\n",
       "      <td>92b87fa5-f271-43e0-af66-84fac21052e6</td>\n",
       "      <td>dislike</td>\n",
       "      <td>2021-06-17 12:22:51</td>\n",
       "    </tr>\n",
       "    <tr>\n",
       "      <th>3</th>\n",
       "      <td>3</td>\n",
       "      <td>97522e57-d9ab-4bd6-97bf-c24d952602d2</td>\n",
       "      <td>163daa38-8b77-48c9-9af6-37a6c1447ac2</td>\n",
       "      <td>scared</td>\n",
       "      <td>2021-04-18 05:13:58</td>\n",
       "    </tr>\n",
       "    <tr>\n",
       "      <th>4</th>\n",
       "      <td>4</td>\n",
       "      <td>97522e57-d9ab-4bd6-97bf-c24d952602d2</td>\n",
       "      <td>34e8add9-0206-47fd-a501-037b994650a2</td>\n",
       "      <td>disgust</td>\n",
       "      <td>2021-01-06 19:13:01</td>\n",
       "    </tr>\n",
       "  </tbody>\n",
       "</table>\n",
       "</div>"
      ],
      "text/plain": [
       "   Unnamed: 0                            Content ID  \\\n",
       "0           0  97522e57-d9ab-4bd6-97bf-c24d952602d2   \n",
       "1           1  97522e57-d9ab-4bd6-97bf-c24d952602d2   \n",
       "2           2  97522e57-d9ab-4bd6-97bf-c24d952602d2   \n",
       "3           3  97522e57-d9ab-4bd6-97bf-c24d952602d2   \n",
       "4           4  97522e57-d9ab-4bd6-97bf-c24d952602d2   \n",
       "\n",
       "                                User ID     Type             Datetime  \n",
       "0                                   NaN      NaN  2021-04-22 15:17:15  \n",
       "1  5d454588-283d-459d-915d-c48a2cb4c27f  disgust  2020-11-07 09:43:50  \n",
       "2  92b87fa5-f271-43e0-af66-84fac21052e6  dislike  2021-06-17 12:22:51  \n",
       "3  163daa38-8b77-48c9-9af6-37a6c1447ac2   scared  2021-04-18 05:13:58  \n",
       "4  34e8add9-0206-47fd-a501-037b994650a2  disgust  2021-01-06 19:13:01  "
      ]
     },
     "execution_count": 344,
     "metadata": {},
     "output_type": "execute_result"
    }
   ],
   "source": [
    "# preview the data\n",
    "\n",
    "reactions_df.head()"
   ]
  },
  {
   "cell_type": "code",
   "execution_count": 345,
   "id": "85ab57e3",
   "metadata": {},
   "outputs": [],
   "source": [
    "# remove the unimportant columns for analysis\n",
    "\n",
    "dropped_columns = ['Unnamed: 0', \"User ID\"]\n",
    "reactions_df.drop(columns=dropped_columns, inplace = True)"
   ]
  },
  {
   "cell_type": "code",
   "execution_count": 346,
   "id": "b65ca3c4",
   "metadata": {},
   "outputs": [],
   "source": [
    "# change Type column name to differentiate from Content Type column\n",
    "\n",
    "reactions_df.rename(columns={'Type': 'Reaction Type'}, inplace=True)"
   ]
  },
  {
   "cell_type": "code",
   "execution_count": 347,
   "id": "e430a4b4",
   "metadata": {},
   "outputs": [
    {
     "data": {
      "text/plain": [
       "Content ID         0\n",
       "Reaction Type    980\n",
       "Datetime           0\n",
       "dtype: int64"
      ]
     },
     "execution_count": 347,
     "metadata": {},
     "output_type": "execute_result"
    }
   ],
   "source": [
    "# Let's see the null values in the data frame\n",
    "\n",
    "reactions_df.isnull().sum()"
   ]
  },
  {
   "cell_type": "code",
   "execution_count": 348,
   "id": "b6131740",
   "metadata": {},
   "outputs": [],
   "source": [
    "# remove rows with null values\n",
    "\n",
    "reactions_df.dropna(inplace=True)"
   ]
  },
  {
   "cell_type": "code",
   "execution_count": 349,
   "id": "aee799c4",
   "metadata": {},
   "outputs": [
    {
     "name": "stdout",
     "output_type": "stream",
     "text": [
      "The data types for values in the Content ID column is: [<class 'str'>]\n",
      "The data types for values in the Reaction Type column is: [<class 'str'>]\n",
      "The data types for values in the Datetime column is: [<class 'str'>]\n"
     ]
    }
   ],
   "source": [
    "## check for uniform data types in columns\n",
    "\n",
    "for col in reactions_df:\n",
    "    print(f\"The data types for values in the {col} column is: {reactions_df[col].apply(type).unique()}\")"
   ]
  },
  {
   "cell_type": "markdown",
   "id": "cf40810f",
   "metadata": {},
   "source": [
    "### Reaction Type Data Frame"
   ]
  },
  {
   "cell_type": "code",
   "execution_count": 350,
   "id": "ac78a165",
   "metadata": {},
   "outputs": [
    {
     "data": {
      "text/html": [
       "<div>\n",
       "<style scoped>\n",
       "    .dataframe tbody tr th:only-of-type {\n",
       "        vertical-align: middle;\n",
       "    }\n",
       "\n",
       "    .dataframe tbody tr th {\n",
       "        vertical-align: top;\n",
       "    }\n",
       "\n",
       "    .dataframe thead th {\n",
       "        text-align: right;\n",
       "    }\n",
       "</style>\n",
       "<table border=\"1\" class=\"dataframe\">\n",
       "  <thead>\n",
       "    <tr style=\"text-align: right;\">\n",
       "      <th></th>\n",
       "      <th>Unnamed: 0</th>\n",
       "      <th>Type</th>\n",
       "      <th>Sentiment</th>\n",
       "      <th>Score</th>\n",
       "    </tr>\n",
       "  </thead>\n",
       "  <tbody>\n",
       "    <tr>\n",
       "      <th>0</th>\n",
       "      <td>0</td>\n",
       "      <td>heart</td>\n",
       "      <td>positive</td>\n",
       "      <td>60</td>\n",
       "    </tr>\n",
       "    <tr>\n",
       "      <th>1</th>\n",
       "      <td>1</td>\n",
       "      <td>want</td>\n",
       "      <td>positive</td>\n",
       "      <td>70</td>\n",
       "    </tr>\n",
       "    <tr>\n",
       "      <th>2</th>\n",
       "      <td>2</td>\n",
       "      <td>disgust</td>\n",
       "      <td>negative</td>\n",
       "      <td>0</td>\n",
       "    </tr>\n",
       "    <tr>\n",
       "      <th>3</th>\n",
       "      <td>3</td>\n",
       "      <td>hate</td>\n",
       "      <td>negative</td>\n",
       "      <td>5</td>\n",
       "    </tr>\n",
       "    <tr>\n",
       "      <th>4</th>\n",
       "      <td>4</td>\n",
       "      <td>interested</td>\n",
       "      <td>positive</td>\n",
       "      <td>30</td>\n",
       "    </tr>\n",
       "    <tr>\n",
       "      <th>5</th>\n",
       "      <td>5</td>\n",
       "      <td>indifferent</td>\n",
       "      <td>neutral</td>\n",
       "      <td>20</td>\n",
       "    </tr>\n",
       "    <tr>\n",
       "      <th>6</th>\n",
       "      <td>6</td>\n",
       "      <td>love</td>\n",
       "      <td>positive</td>\n",
       "      <td>65</td>\n",
       "    </tr>\n",
       "    <tr>\n",
       "      <th>7</th>\n",
       "      <td>7</td>\n",
       "      <td>super love</td>\n",
       "      <td>positive</td>\n",
       "      <td>75</td>\n",
       "    </tr>\n",
       "    <tr>\n",
       "      <th>8</th>\n",
       "      <td>8</td>\n",
       "      <td>cherish</td>\n",
       "      <td>positive</td>\n",
       "      <td>70</td>\n",
       "    </tr>\n",
       "    <tr>\n",
       "      <th>9</th>\n",
       "      <td>9</td>\n",
       "      <td>adore</td>\n",
       "      <td>positive</td>\n",
       "      <td>72</td>\n",
       "    </tr>\n",
       "    <tr>\n",
       "      <th>10</th>\n",
       "      <td>10</td>\n",
       "      <td>like</td>\n",
       "      <td>positive</td>\n",
       "      <td>50</td>\n",
       "    </tr>\n",
       "    <tr>\n",
       "      <th>11</th>\n",
       "      <td>11</td>\n",
       "      <td>dislike</td>\n",
       "      <td>negative</td>\n",
       "      <td>10</td>\n",
       "    </tr>\n",
       "    <tr>\n",
       "      <th>12</th>\n",
       "      <td>12</td>\n",
       "      <td>intrigued</td>\n",
       "      <td>positive</td>\n",
       "      <td>45</td>\n",
       "    </tr>\n",
       "    <tr>\n",
       "      <th>13</th>\n",
       "      <td>13</td>\n",
       "      <td>peeking</td>\n",
       "      <td>neutral</td>\n",
       "      <td>35</td>\n",
       "    </tr>\n",
       "    <tr>\n",
       "      <th>14</th>\n",
       "      <td>14</td>\n",
       "      <td>scared</td>\n",
       "      <td>negative</td>\n",
       "      <td>15</td>\n",
       "    </tr>\n",
       "    <tr>\n",
       "      <th>15</th>\n",
       "      <td>15</td>\n",
       "      <td>worried</td>\n",
       "      <td>negative</td>\n",
       "      <td>12</td>\n",
       "    </tr>\n",
       "  </tbody>\n",
       "</table>\n",
       "</div>"
      ],
      "text/plain": [
       "    Unnamed: 0         Type Sentiment  Score\n",
       "0            0        heart  positive     60\n",
       "1            1         want  positive     70\n",
       "2            2      disgust  negative      0\n",
       "3            3         hate  negative      5\n",
       "4            4   interested  positive     30\n",
       "5            5  indifferent   neutral     20\n",
       "6            6         love  positive     65\n",
       "7            7   super love  positive     75\n",
       "8            8      cherish  positive     70\n",
       "9            9        adore  positive     72\n",
       "10          10         like  positive     50\n",
       "11          11      dislike  negative     10\n",
       "12          12    intrigued  positive     45\n",
       "13          13      peeking   neutral     35\n",
       "14          14       scared  negative     15\n",
       "15          15      worried  negative     12"
      ]
     },
     "execution_count": 350,
     "metadata": {},
     "output_type": "execute_result"
    }
   ],
   "source": [
    "# Let's preview the data\n",
    "\n",
    "reaction_type_df"
   ]
  },
  {
   "cell_type": "code",
   "execution_count": 351,
   "id": "25f48a19",
   "metadata": {},
   "outputs": [],
   "source": [
    "# remove the unimportant columns\n",
    "\n",
    "dropped_columns = ['Unnamed: 0']\n",
    "reaction_type_df.drop(columns = dropped_columns, inplace=True)"
   ]
  },
  {
   "cell_type": "code",
   "execution_count": 352,
   "id": "31e43fcc",
   "metadata": {},
   "outputs": [],
   "source": [
    "# change Type column name to differentiate from Content Type column\n",
    "\n",
    "reaction_type_df.rename(columns={'Type': 'Reaction Type'}, inplace=True)"
   ]
  },
  {
   "cell_type": "code",
   "execution_count": 353,
   "id": "0066b228",
   "metadata": {},
   "outputs": [
    {
     "data": {
      "text/plain": [
       "Reaction Type    0\n",
       "Sentiment        0\n",
       "Score            0\n",
       "dtype: int64"
      ]
     },
     "execution_count": 353,
     "metadata": {},
     "output_type": "execute_result"
    }
   ],
   "source": [
    "# Let's see the null values in the data frame\n",
    "\n",
    "reaction_type_df.isnull().sum()\n",
    "\n",
    "# the df has no null values!"
   ]
  },
  {
   "cell_type": "code",
   "execution_count": 354,
   "id": "bf0ad6c4",
   "metadata": {},
   "outputs": [
    {
     "name": "stdout",
     "output_type": "stream",
     "text": [
      "The data types for values in the Reaction Type column is: [<class 'str'>]\n",
      "The data types for values in the Sentiment column is: [<class 'str'>]\n",
      "The data types for values in the Score column is: [<class 'int'>]\n"
     ]
    }
   ],
   "source": [
    "# check for uniform data types in columns\n",
    "\n",
    "for col in reaction_type_df:\n",
    "    print(f\"The data types for values in the {col} column is: {reaction_type_df[col].apply(type).unique()}\")"
   ]
  },
  {
   "cell_type": "markdown",
   "id": "ad9d712b",
   "metadata": {},
   "source": [
    "# Analysis: Find the top 5 most popular Categories"
   ]
  },
  {
   "cell_type": "markdown",
   "id": "05217fd5",
   "metadata": {},
   "source": [
    "### Create a final data set by merging the three tables together"
   ]
  },
  {
   "cell_type": "code",
   "execution_count": 355,
   "id": "2173e7f7",
   "metadata": {},
   "outputs": [],
   "source": [
    "# merge contents and reactions dfs\n",
    "joined_df = contents_df.merge(reactions_df, on='Content ID')\n",
    "\n",
    "#merge joined_df and reaction types df\n",
    "final_df = joined_df.merge(reaction_type_df, on='Reaction Type')"
   ]
  },
  {
   "cell_type": "code",
   "execution_count": 356,
   "id": "c5eb5816",
   "metadata": {},
   "outputs": [
    {
     "data": {
      "text/html": [
       "<div>\n",
       "<style scoped>\n",
       "    .dataframe tbody tr th:only-of-type {\n",
       "        vertical-align: middle;\n",
       "    }\n",
       "\n",
       "    .dataframe tbody tr th {\n",
       "        vertical-align: top;\n",
       "    }\n",
       "\n",
       "    .dataframe thead th {\n",
       "        text-align: right;\n",
       "    }\n",
       "</style>\n",
       "<table border=\"1\" class=\"dataframe\">\n",
       "  <thead>\n",
       "    <tr style=\"text-align: right;\">\n",
       "      <th></th>\n",
       "      <th>Content ID</th>\n",
       "      <th>Content Type</th>\n",
       "      <th>Category Type</th>\n",
       "      <th>Reaction Type</th>\n",
       "      <th>Datetime</th>\n",
       "      <th>Sentiment</th>\n",
       "      <th>Score</th>\n",
       "    </tr>\n",
       "  </thead>\n",
       "  <tbody>\n",
       "    <tr>\n",
       "      <th>0</th>\n",
       "      <td>97522e57-d9ab-4bd6-97bf-c24d952602d2</td>\n",
       "      <td>photo</td>\n",
       "      <td>studying</td>\n",
       "      <td>disgust</td>\n",
       "      <td>2020-11-07 09:43:50</td>\n",
       "      <td>negative</td>\n",
       "      <td>0</td>\n",
       "    </tr>\n",
       "    <tr>\n",
       "      <th>1</th>\n",
       "      <td>97522e57-d9ab-4bd6-97bf-c24d952602d2</td>\n",
       "      <td>photo</td>\n",
       "      <td>studying</td>\n",
       "      <td>disgust</td>\n",
       "      <td>2021-01-06 19:13:01</td>\n",
       "      <td>negative</td>\n",
       "      <td>0</td>\n",
       "    </tr>\n",
       "    <tr>\n",
       "      <th>2</th>\n",
       "      <td>97522e57-d9ab-4bd6-97bf-c24d952602d2</td>\n",
       "      <td>photo</td>\n",
       "      <td>studying</td>\n",
       "      <td>disgust</td>\n",
       "      <td>2021-04-09 02:46:20</td>\n",
       "      <td>negative</td>\n",
       "      <td>0</td>\n",
       "    </tr>\n",
       "    <tr>\n",
       "      <th>3</th>\n",
       "      <td>9f737e0a-3cdd-4d29-9d24-753f4e3be810</td>\n",
       "      <td>photo</td>\n",
       "      <td>healthy eating</td>\n",
       "      <td>disgust</td>\n",
       "      <td>2021-03-28 21:15:26</td>\n",
       "      <td>negative</td>\n",
       "      <td>0</td>\n",
       "    </tr>\n",
       "    <tr>\n",
       "      <th>4</th>\n",
       "      <td>230c4e4d-70c3-461d-b42c-ec09396efb3f</td>\n",
       "      <td>photo</td>\n",
       "      <td>healthy eating</td>\n",
       "      <td>disgust</td>\n",
       "      <td>2020-08-04 05:40:33</td>\n",
       "      <td>negative</td>\n",
       "      <td>0</td>\n",
       "    </tr>\n",
       "    <tr>\n",
       "      <th>...</th>\n",
       "      <td>...</td>\n",
       "      <td>...</td>\n",
       "      <td>...</td>\n",
       "      <td>...</td>\n",
       "      <td>...</td>\n",
       "      <td>...</td>\n",
       "      <td>...</td>\n",
       "    </tr>\n",
       "    <tr>\n",
       "      <th>24568</th>\n",
       "      <td>435007a5-6261-4d8b-b0a4-55fdc189754b</td>\n",
       "      <td>audio</td>\n",
       "      <td>veganism</td>\n",
       "      <td>adore</td>\n",
       "      <td>2020-10-04 22:26:33</td>\n",
       "      <td>positive</td>\n",
       "      <td>72</td>\n",
       "    </tr>\n",
       "    <tr>\n",
       "      <th>24569</th>\n",
       "      <td>435007a5-6261-4d8b-b0a4-55fdc189754b</td>\n",
       "      <td>audio</td>\n",
       "      <td>veganism</td>\n",
       "      <td>adore</td>\n",
       "      <td>2020-09-18 10:50:50</td>\n",
       "      <td>positive</td>\n",
       "      <td>72</td>\n",
       "    </tr>\n",
       "    <tr>\n",
       "      <th>24570</th>\n",
       "      <td>4e4c9690-c013-4ee7-9e66-943d8cbd27b7</td>\n",
       "      <td>GIF</td>\n",
       "      <td>culture</td>\n",
       "      <td>adore</td>\n",
       "      <td>2020-10-31 03:58:44</td>\n",
       "      <td>positive</td>\n",
       "      <td>72</td>\n",
       "    </tr>\n",
       "    <tr>\n",
       "      <th>24571</th>\n",
       "      <td>4e4c9690-c013-4ee7-9e66-943d8cbd27b7</td>\n",
       "      <td>GIF</td>\n",
       "      <td>culture</td>\n",
       "      <td>adore</td>\n",
       "      <td>2020-06-25 15:12:29</td>\n",
       "      <td>positive</td>\n",
       "      <td>72</td>\n",
       "    </tr>\n",
       "    <tr>\n",
       "      <th>24572</th>\n",
       "      <td>4e4c9690-c013-4ee7-9e66-943d8cbd27b7</td>\n",
       "      <td>GIF</td>\n",
       "      <td>culture</td>\n",
       "      <td>adore</td>\n",
       "      <td>2020-12-17 16:32:57</td>\n",
       "      <td>positive</td>\n",
       "      <td>72</td>\n",
       "    </tr>\n",
       "  </tbody>\n",
       "</table>\n",
       "<p>24573 rows × 7 columns</p>\n",
       "</div>"
      ],
      "text/plain": [
       "                                 Content ID Content Type   Category Type  \\\n",
       "0      97522e57-d9ab-4bd6-97bf-c24d952602d2        photo        studying   \n",
       "1      97522e57-d9ab-4bd6-97bf-c24d952602d2        photo        studying   \n",
       "2      97522e57-d9ab-4bd6-97bf-c24d952602d2        photo        studying   \n",
       "3      9f737e0a-3cdd-4d29-9d24-753f4e3be810        photo  healthy eating   \n",
       "4      230c4e4d-70c3-461d-b42c-ec09396efb3f        photo  healthy eating   \n",
       "...                                     ...          ...             ...   \n",
       "24568  435007a5-6261-4d8b-b0a4-55fdc189754b        audio        veganism   \n",
       "24569  435007a5-6261-4d8b-b0a4-55fdc189754b        audio        veganism   \n",
       "24570  4e4c9690-c013-4ee7-9e66-943d8cbd27b7          GIF         culture   \n",
       "24571  4e4c9690-c013-4ee7-9e66-943d8cbd27b7          GIF         culture   \n",
       "24572  4e4c9690-c013-4ee7-9e66-943d8cbd27b7          GIF         culture   \n",
       "\n",
       "      Reaction Type             Datetime Sentiment  Score  \n",
       "0           disgust  2020-11-07 09:43:50  negative      0  \n",
       "1           disgust  2021-01-06 19:13:01  negative      0  \n",
       "2           disgust  2021-04-09 02:46:20  negative      0  \n",
       "3           disgust  2021-03-28 21:15:26  negative      0  \n",
       "4           disgust  2020-08-04 05:40:33  negative      0  \n",
       "...             ...                  ...       ...    ...  \n",
       "24568         adore  2020-10-04 22:26:33  positive     72  \n",
       "24569         adore  2020-09-18 10:50:50  positive     72  \n",
       "24570         adore  2020-10-31 03:58:44  positive     72  \n",
       "24571         adore  2020-06-25 15:12:29  positive     72  \n",
       "24572         adore  2020-12-17 16:32:57  positive     72  \n",
       "\n",
       "[24573 rows x 7 columns]"
      ]
     },
     "execution_count": 356,
     "metadata": {},
     "output_type": "execute_result"
    }
   ],
   "source": [
    "# view our new merged data frame\n",
    "\n",
    "final_df"
   ]
  },
  {
   "cell_type": "markdown",
   "id": "6a4f8e91",
   "metadata": {},
   "source": [
    "### Figure out the Top 5 performing categories"
   ]
  },
  {
   "cell_type": "code",
   "execution_count": 357,
   "id": "d0d57791",
   "metadata": {},
   "outputs": [],
   "source": [
    "# find score totals by Category Type\n",
    "\n",
    "scores = final_df.groupby('Category Type')['Score'].sum().reset_index()\n",
    "\n",
    "# sort scores\n",
    "scores_sorted = scores.sort_values(by='Score', ascending = False).reset_index()\n",
    "scores_sorted.drop(columns='index', inplace = True)"
   ]
  },
  {
   "cell_type": "code",
   "execution_count": 358,
   "id": "15ba5fc0",
   "metadata": {},
   "outputs": [
    {
     "data": {
      "text/html": [
       "<div>\n",
       "<style scoped>\n",
       "    .dataframe tbody tr th:only-of-type {\n",
       "        vertical-align: middle;\n",
       "    }\n",
       "\n",
       "    .dataframe tbody tr th {\n",
       "        vertical-align: top;\n",
       "    }\n",
       "\n",
       "    .dataframe thead th {\n",
       "        text-align: right;\n",
       "    }\n",
       "</style>\n",
       "<table border=\"1\" class=\"dataframe\">\n",
       "  <thead>\n",
       "    <tr style=\"text-align: right;\">\n",
       "      <th></th>\n",
       "      <th>Category Type</th>\n",
       "      <th>Score</th>\n",
       "    </tr>\n",
       "  </thead>\n",
       "  <tbody>\n",
       "    <tr>\n",
       "      <th>0</th>\n",
       "      <td>animals</td>\n",
       "      <td>74965</td>\n",
       "    </tr>\n",
       "    <tr>\n",
       "      <th>1</th>\n",
       "      <td>science</td>\n",
       "      <td>71168</td>\n",
       "    </tr>\n",
       "    <tr>\n",
       "      <th>2</th>\n",
       "      <td>healthy eating</td>\n",
       "      <td>69339</td>\n",
       "    </tr>\n",
       "    <tr>\n",
       "      <th>3</th>\n",
       "      <td>technology</td>\n",
       "      <td>68738</td>\n",
       "    </tr>\n",
       "    <tr>\n",
       "      <th>4</th>\n",
       "      <td>food</td>\n",
       "      <td>66676</td>\n",
       "    </tr>\n",
       "    <tr>\n",
       "      <th>5</th>\n",
       "      <td>culture</td>\n",
       "      <td>66579</td>\n",
       "    </tr>\n",
       "    <tr>\n",
       "      <th>6</th>\n",
       "      <td>travel</td>\n",
       "      <td>64880</td>\n",
       "    </tr>\n",
       "    <tr>\n",
       "      <th>7</th>\n",
       "      <td>cooking</td>\n",
       "      <td>64756</td>\n",
       "    </tr>\n",
       "    <tr>\n",
       "      <th>8</th>\n",
       "      <td>soccer</td>\n",
       "      <td>57783</td>\n",
       "    </tr>\n",
       "    <tr>\n",
       "      <th>9</th>\n",
       "      <td>education</td>\n",
       "      <td>57436</td>\n",
       "    </tr>\n",
       "    <tr>\n",
       "      <th>10</th>\n",
       "      <td>fitness</td>\n",
       "      <td>55323</td>\n",
       "    </tr>\n",
       "    <tr>\n",
       "      <th>11</th>\n",
       "      <td>studying</td>\n",
       "      <td>54269</td>\n",
       "    </tr>\n",
       "    <tr>\n",
       "      <th>12</th>\n",
       "      <td>dogs</td>\n",
       "      <td>52511</td>\n",
       "    </tr>\n",
       "    <tr>\n",
       "      <th>13</th>\n",
       "      <td>tennis</td>\n",
       "      <td>50339</td>\n",
       "    </tr>\n",
       "    <tr>\n",
       "      <th>14</th>\n",
       "      <td>veganism</td>\n",
       "      <td>49619</td>\n",
       "    </tr>\n",
       "    <tr>\n",
       "      <th>15</th>\n",
       "      <td>public speaking</td>\n",
       "      <td>49264</td>\n",
       "    </tr>\n",
       "  </tbody>\n",
       "</table>\n",
       "</div>"
      ],
      "text/plain": [
       "      Category Type  Score\n",
       "0           animals  74965\n",
       "1           science  71168\n",
       "2    healthy eating  69339\n",
       "3        technology  68738\n",
       "4              food  66676\n",
       "5           culture  66579\n",
       "6            travel  64880\n",
       "7           cooking  64756\n",
       "8            soccer  57783\n",
       "9         education  57436\n",
       "10          fitness  55323\n",
       "11         studying  54269\n",
       "12             dogs  52511\n",
       "13           tennis  50339\n",
       "14         veganism  49619\n",
       "15  public speaking  49264"
      ]
     },
     "execution_count": 358,
     "metadata": {},
     "output_type": "execute_result"
    }
   ],
   "source": [
    "# view the sorted scores data frame\n",
    "scores_sorted"
   ]
  },
  {
   "cell_type": "code",
   "execution_count": 359,
   "id": "53adceec",
   "metadata": {},
   "outputs": [
    {
     "data": {
      "text/html": [
       "<div>\n",
       "<style scoped>\n",
       "    .dataframe tbody tr th:only-of-type {\n",
       "        vertical-align: middle;\n",
       "    }\n",
       "\n",
       "    .dataframe tbody tr th {\n",
       "        vertical-align: top;\n",
       "    }\n",
       "\n",
       "    .dataframe thead th {\n",
       "        text-align: right;\n",
       "    }\n",
       "</style>\n",
       "<table border=\"1\" class=\"dataframe\">\n",
       "  <thead>\n",
       "    <tr style=\"text-align: right;\">\n",
       "      <th></th>\n",
       "      <th>Category Type</th>\n",
       "      <th>Score</th>\n",
       "    </tr>\n",
       "  </thead>\n",
       "  <tbody>\n",
       "    <tr>\n",
       "      <th>0</th>\n",
       "      <td>animals</td>\n",
       "      <td>74965</td>\n",
       "    </tr>\n",
       "    <tr>\n",
       "      <th>1</th>\n",
       "      <td>science</td>\n",
       "      <td>71168</td>\n",
       "    </tr>\n",
       "    <tr>\n",
       "      <th>2</th>\n",
       "      <td>healthy eating</td>\n",
       "      <td>69339</td>\n",
       "    </tr>\n",
       "    <tr>\n",
       "      <th>3</th>\n",
       "      <td>technology</td>\n",
       "      <td>68738</td>\n",
       "    </tr>\n",
       "    <tr>\n",
       "      <th>4</th>\n",
       "      <td>food</td>\n",
       "      <td>66676</td>\n",
       "    </tr>\n",
       "  </tbody>\n",
       "</table>\n",
       "</div>"
      ],
      "text/plain": [
       "    Category Type  Score\n",
       "0         animals  74965\n",
       "1         science  71168\n",
       "2  healthy eating  69339\n",
       "3      technology  68738\n",
       "4            food  66676"
      ]
     },
     "execution_count": 359,
     "metadata": {},
     "output_type": "execute_result"
    }
   ],
   "source": [
    "# top 5 performing categories\n",
    "\n",
    "scores_sorted[:5]"
   ]
  },
  {
   "cell_type": "code",
   "execution_count": 360,
   "id": "cef23829",
   "metadata": {},
   "outputs": [],
   "source": [
    "# export the data frames\n",
    "\n",
    "final_df.to_excel('cleaned_df.xlsx', index=False)\n",
    "\n",
    "scores_sorted.to_excel('category_analysis.xlsx', index=False)"
   ]
  },
  {
   "cell_type": "markdown",
   "id": "f117f8d6",
   "metadata": {},
   "source": [
    "### Follow up: How many reactions are there to the most popular category?"
   ]
  },
  {
   "cell_type": "code",
   "execution_count": 414,
   "id": "125fe619",
   "metadata": {},
   "outputs": [
    {
     "data": {
      "text/plain": [
       "animals            1897\n",
       "science            1796\n",
       "healthy eating     1717\n",
       "food               1699\n",
       "technology         1698\n",
       "culture            1676\n",
       "cooking            1664\n",
       "travel             1647\n",
       "soccer             1457\n",
       "education          1433\n",
       "fitness            1395\n",
       "studying           1363\n",
       "dogs               1338\n",
       "tennis             1328\n",
       "veganism           1248\n",
       "public speaking    1217\n",
       "Name: Category Type, dtype: int64"
      ]
     },
     "execution_count": 414,
     "metadata": {},
     "output_type": "execute_result"
    }
   ],
   "source": [
    "# use value counts function to rank the most reacted to categories\n",
    "\n",
    "final_df['Category Type'].value_counts()"
   ]
  },
  {
   "cell_type": "markdown",
   "id": "4f7457d9",
   "metadata": {},
   "source": [
    "# Visualization"
   ]
  },
  {
   "cell_type": "markdown",
   "id": "50a2ce3f",
   "metadata": {},
   "source": [
    "### What was the month with the most posts?"
   ]
  },
  {
   "cell_type": "code",
   "execution_count": null,
   "id": "19f86ea1",
   "metadata": {},
   "outputs": [],
   "source": [
    "# import visualization libraries\n",
    "import matplotlib.pyplot as plt"
   ]
  },
  {
   "cell_type": "code",
   "execution_count": 370,
   "id": "bbd40418",
   "metadata": {},
   "outputs": [
    {
     "data": {
      "text/plain": [
       "Content ID       object\n",
       "Content Type     object\n",
       "Category Type    object\n",
       "Reaction Type    object\n",
       "Datetime         object\n",
       "Sentiment        object\n",
       "Score             int64\n",
       "dtype: object"
      ]
     },
     "execution_count": 370,
     "metadata": {},
     "output_type": "execute_result"
    }
   ],
   "source": [
    "# check if datetime field is a datetime data type\n",
    "final_df.dtypes"
   ]
  },
  {
   "cell_type": "code",
   "execution_count": 372,
   "id": "a3a9345e",
   "metadata": {},
   "outputs": [],
   "source": [
    "# convert to datetime data type\n",
    "\n",
    "final_df['Datetime'] = pd.to_datetime(final_df['Datetime'])"
   ]
  },
  {
   "cell_type": "code",
   "execution_count": 375,
   "id": "e8c38f14",
   "metadata": {},
   "outputs": [],
   "source": [
    "# extract months\n",
    "final_df['Month'] = final_df['Datetime'].dt.month"
   ]
  },
  {
   "cell_type": "code",
   "execution_count": 384,
   "id": "12c7bccf",
   "metadata": {},
   "outputs": [],
   "source": [
    "# calculate frequency of each month\n",
    "month_counts = final_df['Month'].value_counts()"
   ]
  },
  {
   "cell_type": "code",
   "execution_count": 410,
   "id": "a88b6549",
   "metadata": {},
   "outputs": [
    {
     "data": {
      "image/png": "[encoded data removed]",
      "text/plain": [
       "<Figure size 640x480 with 1 Axes>"
      ]
     },
     "metadata": {},
     "output_type": "display_data"
    }
   ],
   "source": [
    "# create a bar chart\n",
    "\n",
    "# set color of May to red to highlight it as the leading month\n",
    "top_month = ['cornflowerblue' if idx != 5 else 'forestgreen' for idx in month_counts.index]\n",
    "\n",
    "plt.bar(month_counts.index, month_counts.values, color = top_month)\n",
    "plt.xlabel('Month')\n",
    "plt.ylabel('Number of Posts')\n",
    "plt.title('Posts Per Month')\n",
    "\n",
    "# set x-axis\n",
    "plt.xticks(range(1, 13), [\n",
    "    'January', 'February', 'March', 'April', 'May', 'June', \n",
    "    'July', 'August', 'September', 'October', 'November', 'December'\n",
    "], rotation=45)\n",
    "\n",
    "# set y-axis range to show relevant values for clearer marginal differences\n",
    "plt.ylim(1500, max(month_counts.values + 50))\n",
    "\n",
    "plt.show()"
   ]
  }
 ],
 "metadata": {
  "kernelspec": {
   "display_name": "Python 3 (ipykernel)",
   "language": "python",
   "name": "python3"
  },
  "language_info": {
   "codemirror_mode": {
    "name": "ipython",
    "version": 3
   },
   "file_extension": ".py",
   "mimetype": "text/x-python",
   "name": "python",
   "nbconvert_exporter": "python",
   "pygments_lexer": "ipython3",
   "version": "3.11.3"
  }
 },
 "nbformat": 4,
 "nbformat_minor": 5
}
